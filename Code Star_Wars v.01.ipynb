{
 "cells": [
  {
   "cell_type": "code",
   "execution_count": 3,
   "metadata": {},
   "outputs": [
    {
     "ename": "SyntaxError",
     "evalue": "invalid syntax (<ipython-input-3-56d6fb434dc8>, line 14)",
     "output_type": "error",
     "traceback": [
      "\u001b[1;36m  File \u001b[1;32m\"<ipython-input-3-56d6fb434dc8>\"\u001b[1;36m, line \u001b[1;32m14\u001b[0m\n\u001b[1;33m    if word in location_list & #the word is in an indented piece of text:\u001b[0m\n\u001b[1;37m                                                                         ^\u001b[0m\n\u001b[1;31mSyntaxError\u001b[0m\u001b[1;31m:\u001b[0m invalid syntax\n"
     ]
    }
   ],
   "source": [
    "#combine all scripts into a string\n",
    "\n",
    "star_wars_scripts = open('Star Wars, Episode 1 - The Phantom Menace (1999).txt', 'Star Wars, Episode 2 - Attack of the Clones (2002).txt', 'Star Wars, Episode 3 - Avenge of the Sith (2005).txt', 'Star Wars, Episode 4 - A New Hope (1976).txt', 'Star Wars, Episode 5 - The Empire Strikes Back (1980).txt', 'Star Wars, Episode 6 - The Return of the Jedi (1981).txt' , 'r').read()\n",
    "\n",
    "star_wars_scripts_string = star_wars_scripts.split()\n",
    "\n",
    "location_list = []\n",
    "\n",
    "locations_in_dialogue = []\n",
    "\n",
    "#to do: make code to split the scripts into scenes, use regex for both INT and EXT\n",
    "\n",
    "#to do: include regex for extracting dialogue\n",
    "\n",
    "        "
   ]
  },
  {
   "cell_type": "code",
   "execution_count": null,
   "metadata": {
    "collapsed": true
   },
   "outputs": [],
   "source": []
  }
 ],
 "metadata": {
  "kernelspec": {
   "display_name": "Python 3",
   "language": "python",
   "name": "python3"
  },
  "language_info": {
   "codemirror_mode": {
    "name": "ipython",
    "version": 3
   },
   "file_extension": ".py",
   "mimetype": "text/x-python",
   "name": "python",
   "nbconvert_exporter": "python",
   "pygments_lexer": "ipython3",
   "version": "3.6.1"
  }
 },
 "nbformat": 4,
 "nbformat_minor": 2
}
